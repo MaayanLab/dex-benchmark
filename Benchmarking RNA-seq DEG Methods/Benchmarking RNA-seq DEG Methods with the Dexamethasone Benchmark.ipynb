{
 "cells": [
  {
   "cell_type": "markdown",
   "id": "eb498f7b",
   "metadata": {},
   "source": [
    "# Benchmarking RNA-seq DEG Methods with the Dexamethasone Benchmark"
   ]
  },
  {
   "cell_type": "code",
   "execution_count": null,
   "id": "f3fe067d",
   "metadata": {},
   "outputs": [],
   "source": [
    "# Import libraries"
   ]
  },
  {
   "cell_type": "code",
   "execution_count": 2,
   "id": "5cc26d74",
   "metadata": {},
   "outputs": [],
   "source": [
    "# Load in data"
   ]
  },
  {
   "cell_type": "code",
   "execution_count": 3,
   "id": "2036a595",
   "metadata": {},
   "outputs": [],
   "source": [
    "# DEG analysis"
   ]
  },
  {
   "cell_type": "code",
   "execution_count": null,
   "id": "3abb034c",
   "metadata": {},
   "outputs": [],
   "source": [
    "# Enrichment analysis"
   ]
  },
  {
   "cell_type": "code",
   "execution_count": null,
   "id": "2cf21f46",
   "metadata": {},
   "outputs": [],
   "source": [
    "# Extract NR3C1 rankings"
   ]
  },
  {
   "cell_type": "code",
   "execution_count": null,
   "id": "49bd1080",
   "metadata": {},
   "outputs": [],
   "source": [
    "# Compare rankings/methods"
   ]
  }
 ],
 "metadata": {
  "kernelspec": {
   "display_name": "Python 3 (ipykernel)",
   "language": "python",
   "name": "python3"
  },
  "language_info": {
   "codemirror_mode": {
    "name": "ipython",
    "version": 3
   },
   "file_extension": ".py",
   "mimetype": "text/x-python",
   "name": "python",
   "nbconvert_exporter": "python",
   "pygments_lexer": "ipython3",
   "version": "3.9.13"
  }
 },
 "nbformat": 4,
 "nbformat_minor": 5
}

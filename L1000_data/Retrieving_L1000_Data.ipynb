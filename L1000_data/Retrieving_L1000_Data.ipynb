{
 "cells": [
  {
   "attachments": {},
   "cell_type": "markdown",
   "id": "1c21b495",
   "metadata": {},
   "source": [
    "# Retrieving L1000 Data with SigComLINCS API"
   ]
  },
  {
   "cell_type": "code",
   "execution_count": 1,
   "id": "a978f6d1",
   "metadata": {},
   "outputs": [],
   "source": [
    "import json\n",
    "import requests\n",
    "import pandas as pd"
   ]
  },
  {
   "cell_type": "code",
   "execution_count": 2,
   "id": "e8ff62f3",
   "metadata": {},
   "outputs": [],
   "source": [
    "metadata_api = \"https://maayanlab.cloud/sigcom-lincs/metadata-api\""
   ]
  },
  {
   "attachments": {},
   "cell_type": "markdown",
   "id": "217fb9c2",
   "metadata": {},
   "source": [
    "## Chemical Perturbation Signatures"
   ]
  },
  {
   "cell_type": "code",
   "execution_count": 3,
   "id": "c82ecc87",
   "metadata": {},
   "outputs": [],
   "source": [
    "# Enter perturbagen of interest\n",
    "chempert = 'dexamethasone'"
   ]
  },
  {
   "cell_type": "code",
   "execution_count": 4,
   "id": "35652331",
   "metadata": {},
   "outputs": [
    {
     "data": {
      "text/plain": [
       "[{'$validator': '/dcic/signature-commons-schema/v5/core/library.json',\n",
       "  'id': '54198d6e-fe17-5ef8-91ac-02b425761653',\n",
       "  'resource': 'f2bace34-022d-4147-9ca4-7b6e450c794d',\n",
       "  'dataset': 'l1000_cp',\n",
       "  'dataset_type': 'rank_matrix',\n",
       "  'meta': {'date': '2021-06-10',\n",
       "   'icon': './static/images/lincs/CMap.png',\n",
       "   'size': '35.57 GB',\n",
       "   'assay': 'L1000 mRNA profiling assay',\n",
       "   'center': 'LINCS Center for Transcriptomics (Broad Institute)',\n",
       "   '$validator': 'https://raw.githubusercontent.com/MaayanLab/sigcom-lincs/main/validators/lincs_datasets.json',\n",
       "   'total_size': 35565630496,\n",
       "   'url_prefix': 'https://lincs-dcic.s3.amazonaws.com/LINCS-sigs-2021/cd/cp',\n",
       "   'datalevel_5': {'id': 'L1000_cp',\n",
       "    'date': '2021-06-10',\n",
       "    'link': 'https://clue.io/data/CMap2020#LINCS2020',\n",
       "    'size': '35.57 GB',\n",
       "    'version': '1',\n",
       "    'file_url': 'https://lincs-dcic.s3.amazonaws.com/LINCS-sigs-2021/gctx/cd-coefficient/cp_coeff_mat.gctx',\n",
       "    'filesize': 35565630496,\n",
       "    'datalevel': 5,\n",
       "    'description': 'LINCS L1000 Chemical Perturbations (2021)'},\n",
       "   'description': 'LINCS L1000 Chemical Perturbations (2021)',\n",
       "   '$download_counter': 12}}]"
      ]
     },
     "execution_count": 4,
     "metadata": {},
     "output_type": "execute_result"
    }
   ],
   "source": [
    "payload = {\n",
    "    \"filter\": {\n",
    "        \"where\": {\n",
    "            \"meta\": {\n",
    "                \"fullTextSearch\": \"Chemical Perturbation 2021\"\n",
    "            }\n",
    "        }\n",
    "    }\n",
    "}\n",
    "\n",
    "res = requests.post(metadata_api + \"/libraries/find\", json=payload)\n",
    "res.json()"
   ]
  },
  {
   "cell_type": "code",
   "execution_count": 5,
   "id": "f567fe7d",
   "metadata": {},
   "outputs": [],
   "source": [
    "chem_pert_dataset = res.json()[0]\n",
    "chem_dataset = chem_pert_dataset['dataset']"
   ]
  },
  {
   "cell_type": "code",
   "execution_count": 7,
   "id": "13456193",
   "metadata": {},
   "outputs": [],
   "source": [
    "libid = chem_pert_dataset[\"id\"]\n",
    "payload = {\n",
    "    \"filter\": {\n",
    "        \"where\": {\n",
    "            \"meta.pert_name\": chempert,\n",
    "            \"library\": libid\n",
    "        }\n",
    "    }\n",
    "}\n",
    "\n",
    "chem_res = requests.post(metadata_api + \"/signatures/find\", json=payload)\n",
    "chem_signatures = chem_res.json()"
   ]
  },
  {
   "cell_type": "code",
   "execution_count": 8,
   "id": "bb07d4c7",
   "metadata": {},
   "outputs": [
    {
     "data": {
      "text/plain": [
       "467"
      ]
     },
     "execution_count": 8,
     "metadata": {},
     "output_type": "execute_result"
    }
   ],
   "source": [
    "len(chem_signatures)"
   ]
  },
  {
   "cell_type": "code",
   "execution_count": 9,
   "id": "91109afa",
   "metadata": {},
   "outputs": [
    {
     "data": {
      "text/plain": [
       "{'$validator': '/dcic/signature-commons-schema/v5/core/signature.json',\n",
       " 'id': '0151d673-edfa-58eb-a0f4-9d163eda17ca',\n",
       " 'library': '54198d6e-fe17-5ef8-91ac-02b425761653',\n",
       " 'meta': {'md5': 'f96c2a71ca38b0ec02cc03e99b0fcf12',\n",
       "  'sha256': '405756e3568ae98df502ecb5e7c3ec7386b0bc8527b0a00907066fe10fdb9317',\n",
       "  'tissue': 'skeletal muscle organ',\n",
       "  'anatomy': 'UBERON:0014892',\n",
       "  'cmap_id': 'CPC015_SKB_24H:BRD-K47635719-001-03-9:10',\n",
       "  'version': 1,\n",
       "  'filename': 'L1000_LINCS_DCIC_CPC015_SKB_24H_C04_dexamethasone_10uM.tsv',\n",
       "  'local_id': 'CPC015_SKB_24H_C04_dexamethasone_10uM',\n",
       "  'cell_line': 'SKB',\n",
       "  'pert_dose': '10 uM',\n",
       "  'pert_name': 'dexamethasone',\n",
       "  'pert_time': '24 h',\n",
       "  'pert_type': 'Chemical',\n",
       "  '$validator': 'https://raw.githubusercontent.com/MaayanLab/sigcom-lincs/main/validators/l1000_signatures.json',\n",
       "  'data_level': 5,\n",
       "  'pubchem_id': 5743,\n",
       "  'creation_time': '2021-05-15',\n",
       "  'persistent_id': 'https://lincs-dcic.s3.amazonaws.com/LINCS-sigs-2021/cd/cp/L1000_LINCS_DCIC_CPC015_SKB_24H_C04_dexamethasone_10uM.tsv',\n",
       "  'size_in_bytes': 217239,\n",
       "  'uncompressed_size_in_bytes': 217239}}"
      ]
     },
     "execution_count": 9,
     "metadata": {},
     "output_type": "execute_result"
    }
   ],
   "source": [
    "chem_signatures[0]"
   ]
  },
  {
   "cell_type": "code",
   "execution_count": 11,
   "id": "5f6eee72",
   "metadata": {},
   "outputs": [],
   "source": [
    "chem_table = pd.DataFrame([chem_signatures[0]['meta']])\n",
    "for i in range(1, len(chem_signatures)):\n",
    "    row = pd.DataFrame([chem_signatures[i]['meta']])\n",
    "    chem_table = pd.concat([chem_table, row])"
   ]
  },
  {
   "cell_type": "code",
   "execution_count": 18,
   "id": "ee4d2cb5",
   "metadata": {},
   "outputs": [],
   "source": [
    "chem_table = chem_table[[\n",
    "    'tissue', 'disease','cell_line','pert_dose','pert_name',\n",
    "    'pert_time','pert_type','data_level','creation_time','persistent_id'\n",
    "]].reset_index().drop(columns=['index'])"
   ]
  },
  {
   "cell_type": "code",
   "execution_count": 25,
   "id": "f6dbfcfe",
   "metadata": {},
   "outputs": [],
   "source": [
    "chem_table['persistent_id'] = chem_table['persistent_id'].apply(\n",
    "    lambda x: x.replace('.tsv', '.tsv.gz').replace('LINCS-sigs-2021/cd/cp', 'LINCS-data-2020/L1000/compound')\n",
    ")"
   ]
  },
  {
   "cell_type": "code",
   "execution_count": 26,
   "id": "edc3e9c9",
   "metadata": {},
   "outputs": [
    {
     "data": {
      "text/html": [
       "<div>\n",
       "<style scoped>\n",
       "    .dataframe tbody tr th:only-of-type {\n",
       "        vertical-align: middle;\n",
       "    }\n",
       "\n",
       "    .dataframe tbody tr th {\n",
       "        vertical-align: top;\n",
       "    }\n",
       "\n",
       "    .dataframe thead th {\n",
       "        text-align: right;\n",
       "    }\n",
       "</style>\n",
       "<table border=\"1\" class=\"dataframe\">\n",
       "  <thead>\n",
       "    <tr style=\"text-align: right;\">\n",
       "      <th></th>\n",
       "      <th>tissue</th>\n",
       "      <th>disease</th>\n",
       "      <th>cell_line</th>\n",
       "      <th>pert_dose</th>\n",
       "      <th>pert_name</th>\n",
       "      <th>pert_time</th>\n",
       "      <th>pert_type</th>\n",
       "      <th>data_level</th>\n",
       "      <th>creation_time</th>\n",
       "      <th>persistent_id</th>\n",
       "      <th>batch</th>\n",
       "    </tr>\n",
       "  </thead>\n",
       "  <tbody>\n",
       "    <tr>\n",
       "      <th>0</th>\n",
       "      <td>skeletal muscle organ</td>\n",
       "      <td>NaN</td>\n",
       "      <td>SKB</td>\n",
       "      <td>10 uM</td>\n",
       "      <td>dexamethasone</td>\n",
       "      <td>24 h</td>\n",
       "      <td>Chemical</td>\n",
       "      <td>5</td>\n",
       "      <td>2021-05-15</td>\n",
       "      <td>https://lincs-dcic.s3.amazonaws.com/LINCS-data...</td>\n",
       "      <td>CPC015_SKB_24H</td>\n",
       "    </tr>\n",
       "    <tr>\n",
       "      <th>1</th>\n",
       "      <td>prostate gland</td>\n",
       "      <td>prostate adenocarcinoma</td>\n",
       "      <td>VCAP</td>\n",
       "      <td>10 uM</td>\n",
       "      <td>dexamethasone</td>\n",
       "      <td>6 h</td>\n",
       "      <td>Chemical</td>\n",
       "      <td>5</td>\n",
       "      <td>2021-05-11</td>\n",
       "      <td>https://lincs-dcic.s3.amazonaws.com/LINCS-data...</td>\n",
       "      <td>CPC009_VCAP_6H</td>\n",
       "    </tr>\n",
       "    <tr>\n",
       "      <th>2</th>\n",
       "      <td>prostate gland</td>\n",
       "      <td>prostate adenocarcinoma</td>\n",
       "      <td>PC3</td>\n",
       "      <td>10 uM</td>\n",
       "      <td>dexamethasone</td>\n",
       "      <td>6 h</td>\n",
       "      <td>Chemical</td>\n",
       "      <td>5</td>\n",
       "      <td>2021-05-10</td>\n",
       "      <td>https://lincs-dcic.s3.amazonaws.com/LINCS-data...</td>\n",
       "      <td>CPC009_PC3_6H</td>\n",
       "    </tr>\n",
       "    <tr>\n",
       "      <th>3</th>\n",
       "      <td>lung</td>\n",
       "      <td>lung cancer</td>\n",
       "      <td>HCC15</td>\n",
       "      <td>10 uM</td>\n",
       "      <td>dexamethasone</td>\n",
       "      <td>6 h</td>\n",
       "      <td>Chemical</td>\n",
       "      <td>5</td>\n",
       "      <td>2021-05-08</td>\n",
       "      <td>https://lincs-dcic.s3.amazonaws.com/LINCS-data...</td>\n",
       "      <td>CPC006_HCC15_6H</td>\n",
       "    </tr>\n",
       "    <tr>\n",
       "      <th>4</th>\n",
       "      <td>kidney</td>\n",
       "      <td>NaN</td>\n",
       "      <td>HA1E</td>\n",
       "      <td>10 uM</td>\n",
       "      <td>dexamethasone</td>\n",
       "      <td>6 h</td>\n",
       "      <td>Chemical</td>\n",
       "      <td>5</td>\n",
       "      <td>2021-05-08</td>\n",
       "      <td>https://lincs-dcic.s3.amazonaws.com/LINCS-data...</td>\n",
       "      <td>CPC006_HA1E_6H</td>\n",
       "    </tr>\n",
       "  </tbody>\n",
       "</table>\n",
       "</div>"
      ],
      "text/plain": [
       "                  tissue                  disease cell_line pert_dose  \\\n",
       "0  skeletal muscle organ                      NaN       SKB     10 uM   \n",
       "1         prostate gland  prostate adenocarcinoma      VCAP     10 uM   \n",
       "2         prostate gland  prostate adenocarcinoma       PC3     10 uM   \n",
       "3                   lung              lung cancer     HCC15     10 uM   \n",
       "4                 kidney                      NaN      HA1E     10 uM   \n",
       "\n",
       "       pert_name pert_time pert_type  data_level creation_time  \\\n",
       "0  dexamethasone      24 h  Chemical           5    2021-05-15   \n",
       "1  dexamethasone       6 h  Chemical           5    2021-05-11   \n",
       "2  dexamethasone       6 h  Chemical           5    2021-05-10   \n",
       "3  dexamethasone       6 h  Chemical           5    2021-05-08   \n",
       "4  dexamethasone       6 h  Chemical           5    2021-05-08   \n",
       "\n",
       "                                       persistent_id            batch  \n",
       "0  https://lincs-dcic.s3.amazonaws.com/LINCS-data...   CPC015_SKB_24H  \n",
       "1  https://lincs-dcic.s3.amazonaws.com/LINCS-data...   CPC009_VCAP_6H  \n",
       "2  https://lincs-dcic.s3.amazonaws.com/LINCS-data...    CPC009_PC3_6H  \n",
       "3  https://lincs-dcic.s3.amazonaws.com/LINCS-data...  CPC006_HCC15_6H  \n",
       "4  https://lincs-dcic.s3.amazonaws.com/LINCS-data...   CPC006_HA1E_6H  "
      ]
     },
     "execution_count": 26,
     "metadata": {},
     "output_type": "execute_result"
    }
   ],
   "source": [
    "chem_table['batch'] = chem_table['persistent_id'].apply(\n",
    "    lambda x: '_'.join(x.split('DCIC_')[1].split('_')[:3])\n",
    ")\n",
    "chem_table.head()"
   ]
  },
  {
   "cell_type": "code",
   "execution_count": 87,
   "id": "58ec5794",
   "metadata": {},
   "outputs": [],
   "source": [
    "chem_table.to_csv(f\"{chempert.capitalize()}_L1000_ChemPert_data.tsv\", sep='\\t', index=False)"
   ]
  },
  {
   "attachments": {},
   "cell_type": "markdown",
   "id": "94f7fd42",
   "metadata": {},
   "source": [
    "## Overexpression"
   ]
  },
  {
   "cell_type": "code",
   "execution_count": 27,
   "id": "417a20ec",
   "metadata": {},
   "outputs": [],
   "source": [
    "# Set overexpression perturbagen\n",
    "oepert = 'NR3C1'"
   ]
  },
  {
   "cell_type": "code",
   "execution_count": 28,
   "id": "f9076392",
   "metadata": {},
   "outputs": [
    {
     "data": {
      "text/plain": [
       "[{'$validator': '/dcic/signature-commons-schema/v5/core/library.json',\n",
       "  'id': 'ef9389a8-53d3-50db-90cc-57e7d150b76c',\n",
       "  'resource': 'f2bace34-022d-4147-9ca4-7b6e450c794d',\n",
       "  'dataset': 'l1000_oe',\n",
       "  'dataset_type': 'rank_matrix',\n",
       "  'meta': {'date': '2021-06-10',\n",
       "   'icon': './static/images/lincs/CMap.png',\n",
       "   'size': '1.69 GB',\n",
       "   'assay': 'L1000 mRNA profiling assay',\n",
       "   'center': 'LINCS Center for Transcriptomics (Broad Institute)',\n",
       "   '$validator': 'https://raw.githubusercontent.com/MaayanLab/sigcom-lincs/main/validators/lincs_datasets.json',\n",
       "   'total_size': 1693041160,\n",
       "   'url_prefix': 'https://lincs-dcic.s3.amazonaws.com/LINCS-sigs-2021/cd/oe',\n",
       "   'datalevel_5': {'id': 'L1000_oe',\n",
       "    'date': '2021-06-10',\n",
       "    'link': 'https://clue.io/data/CMap2020#LINCS2020',\n",
       "    'size': '1.69 GB',\n",
       "    'version': '1',\n",
       "    'file_url': 'https://lincs-dcic.s3.amazonaws.com/LINCS-sigs-2021/gctx/cd-coefficient/oe_coeff_mat.gctx',\n",
       "    'filesize': 1693041160,\n",
       "    'datalevel': 5,\n",
       "    'description': 'LINCS L1000 Overexpression Perturbations (2021)'},\n",
       "   'description': 'LINCS L1000 Overexpression Perturbations (2021)',\n",
       "   '$download_counter': 5}}]"
      ]
     },
     "execution_count": 28,
     "metadata": {},
     "output_type": "execute_result"
    }
   ],
   "source": [
    "payload = {\n",
    "    \"filter\": {\n",
    "        \"where\": {\n",
    "            \"meta\": {\n",
    "                \"fullTextSearch\": \"Overexpression Perturbations 2021\"\n",
    "            }\n",
    "        }\n",
    "    }\n",
    "}\n",
    "\n",
    "res = requests.post(metadata_api + \"/libraries/find\", json=payload)\n",
    "res.json()"
   ]
  },
  {
   "cell_type": "code",
   "execution_count": 29,
   "id": "05ff05e2",
   "metadata": {},
   "outputs": [],
   "source": [
    "oe_pert_dataset = res.json()[0]\n",
    "oe_dataset = oe_pert_dataset['dataset']"
   ]
  },
  {
   "cell_type": "code",
   "execution_count": 30,
   "id": "1d3d6cf1",
   "metadata": {},
   "outputs": [],
   "source": [
    "libid = oe_pert_dataset[\"id\"]\n",
    "payload = {\n",
    "    \"filter\": {\n",
    "        \"where\": {\n",
    "            \"library\": libid,\n",
    "            \"meta.pert_name\": oepert\n",
    "        }\n",
    "    }\n",
    "}\n",
    "\n",
    "oe_res = requests.post(metadata_api + \"/signatures/find\", json=payload)\n",
    "oe_signatures = oe_res.json()"
   ]
  },
  {
   "cell_type": "code",
   "execution_count": 31,
   "id": "590cfd12",
   "metadata": {},
   "outputs": [
    {
     "data": {
      "text/plain": [
       "18"
      ]
     },
     "execution_count": 31,
     "metadata": {},
     "output_type": "execute_result"
    }
   ],
   "source": [
    "len(oe_signatures)"
   ]
  },
  {
   "cell_type": "code",
   "execution_count": 32,
   "id": "345d893e",
   "metadata": {},
   "outputs": [],
   "source": [
    "oe_table = pd.DataFrame([oe_signatures[0]['meta']])\n",
    "for i in range(1, len(oe_signatures)):\n",
    "    row = pd.DataFrame([oe_signatures[i]['meta']])\n",
    "    oe_table = pd.concat([oe_table, row])"
   ]
  },
  {
   "cell_type": "code",
   "execution_count": 33,
   "id": "f7473c37",
   "metadata": {},
   "outputs": [],
   "source": [
    "oe_table = oe_table[[\n",
    "    'tissue','disease','cell_line','pert_name','pert_time',\n",
    "    'pert_type','data_level','creation_time','persistent_id','pert_dose'\n",
    "]].reset_index().drop(columns=['index'])"
   ]
  },
  {
   "cell_type": "code",
   "execution_count": 35,
   "id": "ed9a786d",
   "metadata": {},
   "outputs": [],
   "source": [
    "oe_table['persistent_id'] = oe_table['persistent_id'].apply(\n",
    "    lambda x: x.replace('.tsv', '.tsv.gz').replace('LINCS-sigs-2021/cd/oe', 'LINCS-data-2020/L1000/oe')\n",
    ")"
   ]
  },
  {
   "cell_type": "code",
   "execution_count": 36,
   "id": "8289a792",
   "metadata": {},
   "outputs": [
    {
     "data": {
      "text/html": [
       "<div>\n",
       "<style scoped>\n",
       "    .dataframe tbody tr th:only-of-type {\n",
       "        vertical-align: middle;\n",
       "    }\n",
       "\n",
       "    .dataframe tbody tr th {\n",
       "        vertical-align: top;\n",
       "    }\n",
       "\n",
       "    .dataframe thead th {\n",
       "        text-align: right;\n",
       "    }\n",
       "</style>\n",
       "<table border=\"1\" class=\"dataframe\">\n",
       "  <thead>\n",
       "    <tr style=\"text-align: right;\">\n",
       "      <th></th>\n",
       "      <th>tissue</th>\n",
       "      <th>disease</th>\n",
       "      <th>cell_line</th>\n",
       "      <th>pert_name</th>\n",
       "      <th>pert_time</th>\n",
       "      <th>pert_type</th>\n",
       "      <th>data_level</th>\n",
       "      <th>creation_time</th>\n",
       "      <th>persistent_id</th>\n",
       "      <th>pert_dose</th>\n",
       "      <th>batch</th>\n",
       "    </tr>\n",
       "  </thead>\n",
       "  <tbody>\n",
       "    <tr>\n",
       "      <th>0</th>\n",
       "      <td>prostate gland</td>\n",
       "      <td>prostate adenocarcinoma</td>\n",
       "      <td>PC3</td>\n",
       "      <td>NR3C1</td>\n",
       "      <td>96 h</td>\n",
       "      <td>Overexpression</td>\n",
       "      <td>5</td>\n",
       "      <td>2021-05-19</td>\n",
       "      <td>https://lincs-dcic.s3.amazonaws.com/LINCS-data...</td>\n",
       "      <td>NaN</td>\n",
       "      <td>OEB005_PC3_96H</td>\n",
       "    </tr>\n",
       "    <tr>\n",
       "      <th>1</th>\n",
       "      <td>breast</td>\n",
       "      <td>breast adenocarcinoma</td>\n",
       "      <td>MCF7</td>\n",
       "      <td>NR3C1</td>\n",
       "      <td>96 h</td>\n",
       "      <td>Overexpression</td>\n",
       "      <td>5</td>\n",
       "      <td>2021-05-19</td>\n",
       "      <td>https://lincs-dcic.s3.amazonaws.com/LINCS-data...</td>\n",
       "      <td>NaN</td>\n",
       "      <td>OEB005_MCF7_96H</td>\n",
       "    </tr>\n",
       "    <tr>\n",
       "      <th>2</th>\n",
       "      <td>intestine</td>\n",
       "      <td>colon adenocarcinoma</td>\n",
       "      <td>HT29</td>\n",
       "      <td>NR3C1</td>\n",
       "      <td>96 h</td>\n",
       "      <td>Overexpression</td>\n",
       "      <td>5</td>\n",
       "      <td>2021-05-19</td>\n",
       "      <td>https://lincs-dcic.s3.amazonaws.com/LINCS-data...</td>\n",
       "      <td>NaN</td>\n",
       "      <td>OEB005_HT29_96H</td>\n",
       "    </tr>\n",
       "    <tr>\n",
       "      <th>3</th>\n",
       "      <td>liver</td>\n",
       "      <td>carcinoma</td>\n",
       "      <td>HEPG2</td>\n",
       "      <td>NR3C1</td>\n",
       "      <td>96 h</td>\n",
       "      <td>Overexpression</td>\n",
       "      <td>5</td>\n",
       "      <td>2021-05-19</td>\n",
       "      <td>https://lincs-dcic.s3.amazonaws.com/LINCS-data...</td>\n",
       "      <td>NaN</td>\n",
       "      <td>OEB005_HEPG2_96H</td>\n",
       "    </tr>\n",
       "    <tr>\n",
       "      <th>4</th>\n",
       "      <td>lung</td>\n",
       "      <td>lung cancer</td>\n",
       "      <td>HCC515</td>\n",
       "      <td>NR3C1</td>\n",
       "      <td>96 h</td>\n",
       "      <td>Overexpression</td>\n",
       "      <td>5</td>\n",
       "      <td>2021-05-19</td>\n",
       "      <td>https://lincs-dcic.s3.amazonaws.com/LINCS-data...</td>\n",
       "      <td>NaN</td>\n",
       "      <td>OEB005_HCC515_96H</td>\n",
       "    </tr>\n",
       "  </tbody>\n",
       "</table>\n",
       "</div>"
      ],
      "text/plain": [
       "           tissue                  disease cell_line pert_name pert_time  \\\n",
       "0  prostate gland  prostate adenocarcinoma       PC3     NR3C1      96 h   \n",
       "1          breast    breast adenocarcinoma      MCF7     NR3C1      96 h   \n",
       "2       intestine     colon adenocarcinoma      HT29     NR3C1      96 h   \n",
       "3           liver                carcinoma     HEPG2     NR3C1      96 h   \n",
       "4            lung              lung cancer    HCC515     NR3C1      96 h   \n",
       "\n",
       "        pert_type  data_level creation_time  \\\n",
       "0  Overexpression           5    2021-05-19   \n",
       "1  Overexpression           5    2021-05-19   \n",
       "2  Overexpression           5    2021-05-19   \n",
       "3  Overexpression           5    2021-05-19   \n",
       "4  Overexpression           5    2021-05-19   \n",
       "\n",
       "                                       persistent_id pert_dose  \\\n",
       "0  https://lincs-dcic.s3.amazonaws.com/LINCS-data...       NaN   \n",
       "1  https://lincs-dcic.s3.amazonaws.com/LINCS-data...       NaN   \n",
       "2  https://lincs-dcic.s3.amazonaws.com/LINCS-data...       NaN   \n",
       "3  https://lincs-dcic.s3.amazonaws.com/LINCS-data...       NaN   \n",
       "4  https://lincs-dcic.s3.amazonaws.com/LINCS-data...       NaN   \n",
       "\n",
       "               batch  \n",
       "0     OEB005_PC3_96H  \n",
       "1    OEB005_MCF7_96H  \n",
       "2    OEB005_HT29_96H  \n",
       "3   OEB005_HEPG2_96H  \n",
       "4  OEB005_HCC515_96H  "
      ]
     },
     "execution_count": 36,
     "metadata": {},
     "output_type": "execute_result"
    }
   ],
   "source": [
    "oe_table['batch'] = oe_table['persistent_id'].apply(\n",
    "    lambda x: '_'.join(x.split('DCIC_')[1].split('_')[:3])\n",
    ")\n",
    "oe_table.head()"
   ]
  },
  {
   "cell_type": "code",
   "execution_count": 89,
   "id": "41392306",
   "metadata": {},
   "outputs": [],
   "source": [
    "oe_table.to_csv(f\"{oepert}_L1000_OE_data.tsv\", sep='\\t', index=False)"
   ]
  },
  {
   "attachments": {},
   "cell_type": "markdown",
   "id": "e5846d3b",
   "metadata": {},
   "source": [
    "## shRNA Knockdown"
   ]
  },
  {
   "cell_type": "code",
   "execution_count": 43,
   "id": "3fd62da0",
   "metadata": {},
   "outputs": [],
   "source": [
    "shrnapert = 'NR3C1'"
   ]
  },
  {
   "cell_type": "code",
   "execution_count": 51,
   "id": "0c585ea7",
   "metadata": {},
   "outputs": [
    {
     "data": {
      "text/plain": [
       "[{'$validator': '/dcic/signature-commons-schema/v5/core/library.json',\n",
       "  'id': '8f1ff550-ece8-591d-a213-2763f854c008',\n",
       "  'resource': 'f2bace34-022d-4147-9ca4-7b6e450c794d',\n",
       "  'dataset': 'l1000_shRNA',\n",
       "  'dataset_type': 'rank_matrix',\n",
       "  'meta': {'date': '2021-06-10',\n",
       "   'icon': './static/images/lincs/CMap.png',\n",
       "   'size': '7.83 GB',\n",
       "   'assay': 'L1000 mRNA profiling assay',\n",
       "   'center': 'LINCS Center for Transcriptomics (Broad Institute)',\n",
       "   '$validator': 'https://raw.githubusercontent.com/MaayanLab/sigcom-lincs/main/validators/lincs_datasets.json',\n",
       "   'total_size': 7826067080,\n",
       "   'url_prefix': 'https://lincs-dcic.s3.amazonaws.com/LINCS-sigs-2021/cd/shRNA',\n",
       "   'datalevel_5': {'id': 'L1000_shRNA',\n",
       "    'date': '2021-06-10',\n",
       "    'link': 'https://clue.io/data/CMap2020#LINCS2020',\n",
       "    'size': '7.83 GB',\n",
       "    'version': '1',\n",
       "    'file_url': 'https://lincs-dcic.s3.amazonaws.com/LINCS-sigs-2021/gctx/cd-coefficient/shRNA_coeff_mat.gctx',\n",
       "    'filesize': 7826067080,\n",
       "    'datalevel': 5,\n",
       "    'description': 'LINCS L1000 shRNA Perturbations (2021)'},\n",
       "   'description': 'LINCS L1000 shRNA Perturbations (2021)',\n",
       "   '$download_counter': 16}}]"
      ]
     },
     "execution_count": 51,
     "metadata": {},
     "output_type": "execute_result"
    }
   ],
   "source": [
    "payload = {\n",
    "    \"filter\": {\n",
    "        \"where\": {\n",
    "            \"meta\": {\n",
    "                \"fullTextSearch\": \"shRNA Perturbations 2021\"\n",
    "            }\n",
    "        }\n",
    "    }\n",
    "}\n",
    "\n",
    "res = requests.post(metadata_api + \"/libraries/find\", json=payload)\n",
    "res.json()"
   ]
  },
  {
   "cell_type": "code",
   "execution_count": 52,
   "id": "2212bafd",
   "metadata": {},
   "outputs": [],
   "source": [
    "shrna_pert_dataset = res.json()[0]\n",
    "shrna_dataset = shrna_pert_dataset['dataset']"
   ]
  },
  {
   "cell_type": "code",
   "execution_count": 53,
   "id": "aca71cad",
   "metadata": {},
   "outputs": [],
   "source": [
    "libid = shrna_pert_dataset[\"id\"]\n",
    "payload = {\n",
    "    \"filter\": {\n",
    "        \"where\": {\n",
    "            \"library\": libid,\n",
    "            \"meta.pert_name\": shrnapert\n",
    "        }\n",
    "    }\n",
    "}\n",
    "\n",
    "shrna_res = requests.post(metadata_api + \"/signatures/find\", json=payload)\n",
    "shrna_signatures = shrna_res.json()"
   ]
  },
  {
   "cell_type": "code",
   "execution_count": 54,
   "id": "20a75566",
   "metadata": {},
   "outputs": [
    {
     "data": {
      "text/plain": [
       "96"
      ]
     },
     "execution_count": 54,
     "metadata": {},
     "output_type": "execute_result"
    }
   ],
   "source": [
    "len(shrna_signatures)"
   ]
  },
  {
   "cell_type": "code",
   "execution_count": 55,
   "id": "36ee62dd",
   "metadata": {},
   "outputs": [],
   "source": [
    "shrna_table = pd.DataFrame([shrna_signatures[0]['meta']])\n",
    "for i in range(1, len(shrna_signatures)):\n",
    "    row = pd.DataFrame([shrna_signatures[i]['meta']])\n",
    "    shrna_table = pd.concat([shrna_table, row])"
   ]
  },
  {
   "cell_type": "code",
   "execution_count": 57,
   "id": "3701d8f2",
   "metadata": {},
   "outputs": [],
   "source": [
    "shrna_table = shrna_table[[\n",
    "    'tissue','disease','cell_line','pert_name','pert_time',\n",
    "    'pert_type','data_level','creation_time','persistent_id'\n",
    "]].reset_index().drop(columns=['index'])"
   ]
  },
  {
   "cell_type": "code",
   "execution_count": 59,
   "id": "cd7a1115",
   "metadata": {},
   "outputs": [],
   "source": [
    "shrna_table['persistent_id'] = shrna_table['persistent_id'].apply(\n",
    "    lambda x: x.replace('.tsv', '.tsv.gz').replace('LINCS-sigs-2021/cd/shRNA', 'LINCS-data-2020/L1000/shRNA')\n",
    ")"
   ]
  },
  {
   "cell_type": "code",
   "execution_count": 60,
   "id": "4f7dc08a",
   "metadata": {},
   "outputs": [
    {
     "data": {
      "text/html": [
       "<div>\n",
       "<style scoped>\n",
       "    .dataframe tbody tr th:only-of-type {\n",
       "        vertical-align: middle;\n",
       "    }\n",
       "\n",
       "    .dataframe tbody tr th {\n",
       "        vertical-align: top;\n",
       "    }\n",
       "\n",
       "    .dataframe thead th {\n",
       "        text-align: right;\n",
       "    }\n",
       "</style>\n",
       "<table border=\"1\" class=\"dataframe\">\n",
       "  <thead>\n",
       "    <tr style=\"text-align: right;\">\n",
       "      <th></th>\n",
       "      <th>tissue</th>\n",
       "      <th>disease</th>\n",
       "      <th>cell_line</th>\n",
       "      <th>pert_name</th>\n",
       "      <th>pert_time</th>\n",
       "      <th>pert_type</th>\n",
       "      <th>data_level</th>\n",
       "      <th>creation_time</th>\n",
       "      <th>persistent_id</th>\n",
       "      <th>batch</th>\n",
       "    </tr>\n",
       "  </thead>\n",
       "  <tbody>\n",
       "    <tr>\n",
       "      <th>0</th>\n",
       "      <td>prostate gland</td>\n",
       "      <td>prostate adenocarcinoma</td>\n",
       "      <td>VCAP</td>\n",
       "      <td>NR3C1</td>\n",
       "      <td>120 h</td>\n",
       "      <td>shRNA</td>\n",
       "      <td>5</td>\n",
       "      <td>2021-05-13</td>\n",
       "      <td>https://lincs-dcic.s3.amazonaws.com/LINCS-data...</td>\n",
       "      <td>KDC007_VCAP_120H</td>\n",
       "    </tr>\n",
       "    <tr>\n",
       "      <th>1</th>\n",
       "      <td>prostate gland</td>\n",
       "      <td>prostate adenocarcinoma</td>\n",
       "      <td>PC3</td>\n",
       "      <td>NR3C1</td>\n",
       "      <td>96 h</td>\n",
       "      <td>shRNA</td>\n",
       "      <td>5</td>\n",
       "      <td>2021-05-13</td>\n",
       "      <td>https://lincs-dcic.s3.amazonaws.com/LINCS-data...</td>\n",
       "      <td>KDC007_PC3_96H</td>\n",
       "    </tr>\n",
       "    <tr>\n",
       "      <th>2</th>\n",
       "      <td>prostate gland</td>\n",
       "      <td>prostate adenocarcinoma</td>\n",
       "      <td>VCAP</td>\n",
       "      <td>NR3C1</td>\n",
       "      <td>120 h</td>\n",
       "      <td>shRNA</td>\n",
       "      <td>5</td>\n",
       "      <td>2021-05-15</td>\n",
       "      <td>https://lincs-dcic.s3.amazonaws.com/LINCS-data...</td>\n",
       "      <td>KDC007_VCAP_120H</td>\n",
       "    </tr>\n",
       "    <tr>\n",
       "      <th>3</th>\n",
       "      <td>prostate gland</td>\n",
       "      <td>prostate adenocarcinoma</td>\n",
       "      <td>VCAP</td>\n",
       "      <td>NR3C1</td>\n",
       "      <td>120 h</td>\n",
       "      <td>shRNA</td>\n",
       "      <td>5</td>\n",
       "      <td>2021-05-15</td>\n",
       "      <td>https://lincs-dcic.s3.amazonaws.com/LINCS-data...</td>\n",
       "      <td>KDC007_VCAP_120H</td>\n",
       "    </tr>\n",
       "    <tr>\n",
       "      <th>4</th>\n",
       "      <td>breast</td>\n",
       "      <td>breast adenocarcinoma</td>\n",
       "      <td>MCF7</td>\n",
       "      <td>NR3C1</td>\n",
       "      <td>96 h</td>\n",
       "      <td>shRNA</td>\n",
       "      <td>5</td>\n",
       "      <td>2021-05-13</td>\n",
       "      <td>https://lincs-dcic.s3.amazonaws.com/LINCS-data...</td>\n",
       "      <td>KDC007_MCF7_96H</td>\n",
       "    </tr>\n",
       "  </tbody>\n",
       "</table>\n",
       "</div>"
      ],
      "text/plain": [
       "           tissue                  disease cell_line pert_name pert_time  \\\n",
       "0  prostate gland  prostate adenocarcinoma      VCAP     NR3C1     120 h   \n",
       "1  prostate gland  prostate adenocarcinoma       PC3     NR3C1      96 h   \n",
       "2  prostate gland  prostate adenocarcinoma      VCAP     NR3C1     120 h   \n",
       "3  prostate gland  prostate adenocarcinoma      VCAP     NR3C1     120 h   \n",
       "4          breast    breast adenocarcinoma      MCF7     NR3C1      96 h   \n",
       "\n",
       "  pert_type  data_level creation_time  \\\n",
       "0     shRNA           5    2021-05-13   \n",
       "1     shRNA           5    2021-05-13   \n",
       "2     shRNA           5    2021-05-15   \n",
       "3     shRNA           5    2021-05-15   \n",
       "4     shRNA           5    2021-05-13   \n",
       "\n",
       "                                       persistent_id             batch  \n",
       "0  https://lincs-dcic.s3.amazonaws.com/LINCS-data...  KDC007_VCAP_120H  \n",
       "1  https://lincs-dcic.s3.amazonaws.com/LINCS-data...    KDC007_PC3_96H  \n",
       "2  https://lincs-dcic.s3.amazonaws.com/LINCS-data...  KDC007_VCAP_120H  \n",
       "3  https://lincs-dcic.s3.amazonaws.com/LINCS-data...  KDC007_VCAP_120H  \n",
       "4  https://lincs-dcic.s3.amazonaws.com/LINCS-data...   KDC007_MCF7_96H  "
      ]
     },
     "execution_count": 60,
     "metadata": {},
     "output_type": "execute_result"
    }
   ],
   "source": [
    "shrna_table['batch'] = shrna_table['persistent_id'].apply(\n",
    "    lambda x: '_'.join(x.split('DCIC_')[1].split('_')[:3])\n",
    ")\n",
    "shrna_table.head()"
   ]
  },
  {
   "cell_type": "code",
   "execution_count": null,
   "id": "21b46c86",
   "metadata": {},
   "outputs": [],
   "source": [
    "shrna_table.to_csv(f\"{shrnapert}_L1000_shRNA_data.tsv\", sep='\\t', index=False)"
   ]
  },
  {
   "attachments": {},
   "cell_type": "markdown",
   "id": "12a30485",
   "metadata": {},
   "source": [
    "## CRISPR Knockout"
   ]
  },
  {
   "cell_type": "code",
   "execution_count": 63,
   "id": "a61c88b9",
   "metadata": {},
   "outputs": [],
   "source": [
    "crisprkopert = 'NR1I2'"
   ]
  },
  {
   "cell_type": "code",
   "execution_count": 61,
   "id": "fa1725fa",
   "metadata": {},
   "outputs": [
    {
     "data": {
      "text/plain": [
       "[{'$validator': '/dcic/signature-commons-schema/v5/core/library.json',\n",
       "  'id': '96c7b8c5-1eca-5764-88e4-e4ccaee6603f',\n",
       "  'resource': 'f2bace34-022d-4147-9ca4-7b6e450c794d',\n",
       "  'dataset': 'l1000_xpr',\n",
       "  'dataset_type': 'rank_matrix',\n",
       "  'meta': {'date': '2021-06-10',\n",
       "   'icon': './static/images/lincs/CMap.png',\n",
       "   'size': '6.98 GB',\n",
       "   'assay': 'L1000 mRNA profiling assay',\n",
       "   'center': 'LINCS Center for Transcriptomics (Broad Institute)',\n",
       "   '$validator': 'https://raw.githubusercontent.com/MaayanLab/sigcom-lincs/main/validators/lincs_datasets.json',\n",
       "   'total_size': 6980690856,\n",
       "   'url_prefix': 'https://lincs-dcic.s3.amazonaws.com/LINCS-sigs-2021/cd/xpr',\n",
       "   'datalevel_5': {'id': 'L1000_xpr',\n",
       "    'date': '2021-06-10',\n",
       "    'link': 'https://clue.io/data/CMap2020#LINCS2020',\n",
       "    'size': '6.98 GB',\n",
       "    'version': '1',\n",
       "    'file_url': 'https://lincs-dcic.s3.amazonaws.com/LINCS-sigs-2021/gctx/cd-coefficient/xpr_coeff_mat.gctx',\n",
       "    'filesize': 6980690856,\n",
       "    'datalevel': 5,\n",
       "    'description': 'LINCS L1000 CRISPR Perturbations (2021)'},\n",
       "   'description': 'LINCS L1000 CRISPR Perturbations (2021)',\n",
       "   '$download_counter': 16}}]"
      ]
     },
     "execution_count": 61,
     "metadata": {},
     "output_type": "execute_result"
    }
   ],
   "source": [
    "payload = {\n",
    "    \"filter\": {\n",
    "        \"where\": {\n",
    "            \"meta\": {\n",
    "                \"fullTextSearch\": \"CRISPR Perturbations 2021\"\n",
    "            }\n",
    "        }\n",
    "    }\n",
    "}\n",
    "\n",
    "res = requests.post(metadata_api + \"/libraries/find\", json=payload)\n",
    "res.json()"
   ]
  },
  {
   "cell_type": "code",
   "execution_count": 62,
   "id": "243591e9",
   "metadata": {},
   "outputs": [],
   "source": [
    "crisprko_pert_dataset = res.json()[0]\n",
    "crisprko_dataset = crisprko_pert_dataset['dataset']"
   ]
  },
  {
   "cell_type": "code",
   "execution_count": 65,
   "id": "967d7580",
   "metadata": {},
   "outputs": [],
   "source": [
    "libid = crisprko_pert_dataset[\"id\"]\n",
    "payload = {\n",
    "    \"filter\": {\n",
    "        \"where\": {\n",
    "            \"library\": libid,\n",
    "            \"meta.pert_name\": crisprkopert\n",
    "        }\n",
    "    }\n",
    "}\n",
    "\n",
    "crisprko_res = requests.post(metadata_api + \"/signatures/find\", json=payload)\n",
    "crisprko_signatures = crisprko_res.json()"
   ]
  },
  {
   "cell_type": "code",
   "execution_count": 66,
   "id": "5aaf5769",
   "metadata": {},
   "outputs": [
    {
     "data": {
      "text/plain": [
       "20"
      ]
     },
     "execution_count": 66,
     "metadata": {},
     "output_type": "execute_result"
    }
   ],
   "source": [
    "len(crisprko_signatures)"
   ]
  },
  {
   "cell_type": "code",
   "execution_count": 67,
   "id": "bf741667",
   "metadata": {},
   "outputs": [],
   "source": [
    "crisprko_table = pd.DataFrame([crisprko_signatures[0]['meta']])\n",
    "for i in range(1, len(crisprko_signatures)):\n",
    "    row = pd.DataFrame([crisprko_signatures[i]['meta']])\n",
    "    crisprko_table = pd.concat([crisprko_table, row])"
   ]
  },
  {
   "cell_type": "code",
   "execution_count": 68,
   "id": "284e1a6a",
   "metadata": {},
   "outputs": [],
   "source": [
    "crisprko_table = crisprko_table[[\n",
    "    'tissue','disease','cell_line','pert_name','pert_time',\n",
    "    'pert_type','data_level','creation_time','persistent_id'\n",
    "]].reset_index().drop(columns=['index'])"
   ]
  },
  {
   "cell_type": "code",
   "execution_count": 70,
   "id": "262d982b",
   "metadata": {},
   "outputs": [],
   "source": [
    "crisprko_table['persistent_id'] = crisprko_table['persistent_id'].apply(\n",
    "    lambda x: x.replace('.tsv', '.tsv.gz').replace('LINCS-sigs-2021/cd/xpr', 'LINCS-data-2020/L1000/xpr')\n",
    ")"
   ]
  },
  {
   "cell_type": "code",
   "execution_count": 71,
   "id": "95d9306b",
   "metadata": {},
   "outputs": [
    {
     "data": {
      "text/html": [
       "<div>\n",
       "<style scoped>\n",
       "    .dataframe tbody tr th:only-of-type {\n",
       "        vertical-align: middle;\n",
       "    }\n",
       "\n",
       "    .dataframe tbody tr th {\n",
       "        vertical-align: top;\n",
       "    }\n",
       "\n",
       "    .dataframe thead th {\n",
       "        text-align: right;\n",
       "    }\n",
       "</style>\n",
       "<table border=\"1\" class=\"dataframe\">\n",
       "  <thead>\n",
       "    <tr style=\"text-align: right;\">\n",
       "      <th></th>\n",
       "      <th>tissue</th>\n",
       "      <th>disease</th>\n",
       "      <th>cell_line</th>\n",
       "      <th>pert_name</th>\n",
       "      <th>pert_time</th>\n",
       "      <th>pert_type</th>\n",
       "      <th>data_level</th>\n",
       "      <th>creation_time</th>\n",
       "      <th>persistent_id</th>\n",
       "      <th>batch</th>\n",
       "    </tr>\n",
       "  </thead>\n",
       "  <tbody>\n",
       "    <tr>\n",
       "      <th>0</th>\n",
       "      <td>brain</td>\n",
       "      <td>astrocytoma</td>\n",
       "      <td>U251MG</td>\n",
       "      <td>NR1I2</td>\n",
       "      <td>96 h</td>\n",
       "      <td>CRISPR Knockout</td>\n",
       "      <td>5</td>\n",
       "      <td>2021-05-23</td>\n",
       "      <td>https://lincs-dcic.s3.amazonaws.com/LINCS-data...</td>\n",
       "      <td>XPR010_U251MG.311_96H</td>\n",
       "    </tr>\n",
       "    <tr>\n",
       "      <th>1</th>\n",
       "      <td>brain</td>\n",
       "      <td>astrocytoma</td>\n",
       "      <td>U251MG</td>\n",
       "      <td>NR1I2</td>\n",
       "      <td>96 h</td>\n",
       "      <td>CRISPR Knockout</td>\n",
       "      <td>5</td>\n",
       "      <td>2021-05-23</td>\n",
       "      <td>https://lincs-dcic.s3.amazonaws.com/LINCS-data...</td>\n",
       "      <td>XPR010_U251MG.311_96H</td>\n",
       "    </tr>\n",
       "    <tr>\n",
       "      <th>2</th>\n",
       "      <td>pancreas</td>\n",
       "      <td>pancreatic carcinoma</td>\n",
       "      <td>YAPC</td>\n",
       "      <td>NR1I2</td>\n",
       "      <td>96 h</td>\n",
       "      <td>CRISPR Knockout</td>\n",
       "      <td>5</td>\n",
       "      <td>2021-05-23</td>\n",
       "      <td>https://lincs-dcic.s3.amazonaws.com/LINCS-data...</td>\n",
       "      <td>XPR010_YAPC.311_96H</td>\n",
       "    </tr>\n",
       "    <tr>\n",
       "      <th>3</th>\n",
       "      <td>pancreas</td>\n",
       "      <td>pancreatic carcinoma</td>\n",
       "      <td>YAPC</td>\n",
       "      <td>NR1I2</td>\n",
       "      <td>96 h</td>\n",
       "      <td>CRISPR Knockout</td>\n",
       "      <td>5</td>\n",
       "      <td>2021-05-23</td>\n",
       "      <td>https://lincs-dcic.s3.amazonaws.com/LINCS-data...</td>\n",
       "      <td>XPR010_YAPC.311_96H</td>\n",
       "    </tr>\n",
       "    <tr>\n",
       "      <th>4</th>\n",
       "      <td>prostate gland</td>\n",
       "      <td>prostate adenocarcinoma</td>\n",
       "      <td>PC3</td>\n",
       "      <td>NR1I2</td>\n",
       "      <td>96 h</td>\n",
       "      <td>CRISPR Knockout</td>\n",
       "      <td>5</td>\n",
       "      <td>2021-05-23</td>\n",
       "      <td>https://lincs-dcic.s3.amazonaws.com/LINCS-data...</td>\n",
       "      <td>XPR010_PC3.311B_96H</td>\n",
       "    </tr>\n",
       "  </tbody>\n",
       "</table>\n",
       "</div>"
      ],
      "text/plain": [
       "           tissue                  disease cell_line pert_name pert_time  \\\n",
       "0           brain              astrocytoma    U251MG     NR1I2      96 h   \n",
       "1           brain              astrocytoma    U251MG     NR1I2      96 h   \n",
       "2        pancreas     pancreatic carcinoma      YAPC     NR1I2      96 h   \n",
       "3        pancreas     pancreatic carcinoma      YAPC     NR1I2      96 h   \n",
       "4  prostate gland  prostate adenocarcinoma       PC3     NR1I2      96 h   \n",
       "\n",
       "         pert_type  data_level creation_time  \\\n",
       "0  CRISPR Knockout           5    2021-05-23   \n",
       "1  CRISPR Knockout           5    2021-05-23   \n",
       "2  CRISPR Knockout           5    2021-05-23   \n",
       "3  CRISPR Knockout           5    2021-05-23   \n",
       "4  CRISPR Knockout           5    2021-05-23   \n",
       "\n",
       "                                       persistent_id                  batch  \n",
       "0  https://lincs-dcic.s3.amazonaws.com/LINCS-data...  XPR010_U251MG.311_96H  \n",
       "1  https://lincs-dcic.s3.amazonaws.com/LINCS-data...  XPR010_U251MG.311_96H  \n",
       "2  https://lincs-dcic.s3.amazonaws.com/LINCS-data...    XPR010_YAPC.311_96H  \n",
       "3  https://lincs-dcic.s3.amazonaws.com/LINCS-data...    XPR010_YAPC.311_96H  \n",
       "4  https://lincs-dcic.s3.amazonaws.com/LINCS-data...    XPR010_PC3.311B_96H  "
      ]
     },
     "execution_count": 71,
     "metadata": {},
     "output_type": "execute_result"
    }
   ],
   "source": [
    "crisprko_table['batch'] = crisprko_table['persistent_id'].apply(\n",
    "    lambda x: '_'.join(x.split('DCIC_')[1].split('_')[:3])\n",
    ")\n",
    "crisprko_table.head()"
   ]
  },
  {
   "cell_type": "code",
   "execution_count": null,
   "id": "95d99152",
   "metadata": {},
   "outputs": [],
   "source": [
    "crisprko_table.to_csv(f\"{crisprkopert}_L1000_CRISPRKO_data.tsv\", sep='\\t', index=False)"
   ]
  }
 ],
 "metadata": {
  "kernelspec": {
   "display_name": "cfde_venv",
   "language": "python",
   "name": "python3"
  },
  "language_info": {
   "codemirror_mode": {
    "name": "ipython",
    "version": 3
   },
   "file_extension": ".py",
   "mimetype": "text/x-python",
   "name": "python",
   "nbconvert_exporter": "python",
   "pygments_lexer": "ipython3",
   "version": "3.8.12"
  },
  "vscode": {
   "interpreter": {
    "hash": "7d7731b72ac517076623e5d505050bf6750d7af4e60d4132e1ac3e769f584aa3"
   }
  }
 },
 "nbformat": 4,
 "nbformat_minor": 5
}
